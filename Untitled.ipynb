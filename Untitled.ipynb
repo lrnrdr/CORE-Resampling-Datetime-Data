{
 "cells": [
  {
   "cell_type": "code",
   "execution_count": 1,
   "id": "adbf17c1-9ecf-42df-a334-c3e758a9b7c8",
   "metadata": {},
   "outputs": [],
   "source": [
    "import pandas as pd\n",
    "import matplotlib.pyplot as plt\n",
    "import matplotlib.dates as mdates\n",
    "import matplotlib.ticker as mticks\n",
    "\n",
    "import missingno as miss\n",
    "\n",
    "import seaborn as sns\n",
    "import numpy as np\n",
    "# import statsmodels.tsa.api as tsa\n",
    "\n",
    "pd.set_option('display.float_format',lambda x:f\"{x:,.2f}\")"
   ]
  },
  {
   "cell_type": "code",
   "execution_count": 2,
   "id": "5206cfe6-a125-40db-86e7-c4b0c24e47ff",
   "metadata": {},
   "outputs": [],
   "source": [
    "sns.set_context('notebook',font_scale=0.9)\n",
    "plt.style.use(['ggplot'])"
   ]
  },
  {
   "cell_type": "code",
   "execution_count": 3,
   "id": "a6241c9f-eca1-4382-9665-47d7716f06a8",
   "metadata": {},
   "outputs": [],
   "source": [
    "import datetime as dt"
   ]
  },
  {
   "cell_type": "markdown",
   "id": "746bce7e-03a3-4940-8e7e-f2a6bde1fd52",
   "metadata": {},
   "source": [
    "# Just playing with datetime "
   ]
  },
  {
   "cell_type": "code",
   "execution_count": 4,
   "id": "78636345-a6f8-43e2-8146-3e92deb2a264",
   "metadata": {},
   "outputs": [
    {
     "data": {
      "text/plain": [
       "datetime.date(2023, 12, 29)"
      ]
     },
     "execution_count": 4,
     "metadata": {},
     "output_type": "execute_result"
    }
   ],
   "source": [
    "# Get Today's date (ONLY) from python's datetime.date module\n",
    "today_date = dt.date.today()\n",
    "today_date"
   ]
  },
  {
   "cell_type": "code",
   "execution_count": 5,
   "id": "9d2b46a4-8357-48bd-a7ab-1f2f7df0a42f",
   "metadata": {},
   "outputs": [
    {
     "data": {
      "text/plain": [
       "datetime.datetime(2023, 12, 29, 3, 49, 21, 934248)"
      ]
     },
     "execution_count": 5,
     "metadata": {},
     "output_type": "execute_result"
    }
   ],
   "source": [
    "# Get Today's date(&time) from python's datetime.datetime module\n",
    "today_datetime = dt.datetime.today()\n",
    "today_datetime"
   ]
  },
  {
   "cell_type": "code",
   "execution_count": null,
   "id": "1f3a82d1-cef9-4ad5-ae95-f60536ec4d5e",
   "metadata": {},
   "outputs": [],
   "source": []
  }
 ],
 "metadata": {
  "kernelspec": {
   "display_name": "Python (dojo-env)",
   "language": "python",
   "name": "dojo-env"
  },
  "language_info": {
   "codemirror_mode": {
    "name": "ipython",
    "version": 3
   },
   "file_extension": ".py",
   "mimetype": "text/x-python",
   "name": "python",
   "nbconvert_exporter": "python",
   "pygments_lexer": "ipython3",
   "version": "3.10.10"
  },
  "widgets": {
   "application/vnd.jupyter.widget-state+json": {
    "state": {},
    "version_major": 2,
    "version_minor": 0
   }
  }
 },
 "nbformat": 4,
 "nbformat_minor": 5
}
